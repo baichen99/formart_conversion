{
 "cells": [
  {
   "cell_type": "code",
   "execution_count": 26,
   "source": [
    "import json\n",
    "import os\n",
    "import requests\n",
    "import time\n",
    "from tqdm import tqdm\n",
    "import uuid"
   ],
   "outputs": [],
   "metadata": {}
  },
  {
   "cell_type": "code",
   "execution_count": 27,
   "source": [
    "filename = 'data.json'\n",
    "with open(filename, 'r') as f:\n",
    "  text = f.read()\n",
    "data = json.loads(text)"
   ],
   "outputs": [],
   "metadata": {}
  },
  {
   "cell_type": "code",
   "execution_count": 39,
   "source": [
    "a = data[0]\n",
    "a"
   ],
   "outputs": [
    {
     "output_type": "execute_result",
     "data": {
      "text/plain": [
       "{'_id': {'$oid': '5d0dd038082f6d0c23bd105c'},\n",
       " 'dict_content': {'SJTU-al-mmc-property': {'information': {'upload-date': '2019-06-22',\n",
       "    'data-source': 'SJTU',\n",
       "    'doi': None},\n",
       "   '@xmlns:xsi': 'http://www.w3.org/2001/XMLSchema-instance',\n",
       "   'mechanical-property': {'tensile-strength': {'unit': 'MPa', 'value': 450},\n",
       "    'percentage-elongation-at-maximum-force': {'unit': '%', 'value': 1},\n",
       "    'specifies-the-plastic-elongation-strength': {'specifies-the-plastic-elongation-strength-record': {'strength': {'unit': 'MPa',\n",
       "       'value': 449},\n",
       "      'rp': 0.2}},\n",
       "    'tensile-curve': {'file': {'url': '/mdcs-sjtu/rest/blob/download/5d0f3348082f6d0c23bd1fcf/',\n",
       "      'name': '1.xls'}},\n",
       "    'youngs-modulus': {'unit': 'GPa', 'value': 81.1},\n",
       "    'number-of-test-sample': 1,\n",
       "    'volume-ratio-of-reinforcement-in-test-sample': {'unit': '%', 'value': 15},\n",
       "    'break-strength': {'unit': 'MPa', 'value': 445},\n",
       "    'test-date': '2019-04-10'}}},\n",
       " 'title': 'SiC/Al tensile test',\n",
       " 'last_modification_date': {'$date': '2019-06-23T08:07:43.155Z'},\n",
       " 'xml_file': {'$oid': '5d0f334f082f6d0c23bd1fd0'},\n",
       " 'template': {'$oid': '5ccae59f082f6d07a0dfff9d'},\n",
       " 'user_id': '2'}"
      ]
     },
     "metadata": {},
     "execution_count": 39
    }
   ],
   "metadata": {}
  },
  {
   "cell_type": "code",
   "execution_count": 34,
   "source": [
    "# 处理附件\n",
    "# 所有的文件放在files/文件夹下，为了避免重名，每个数据 新建一个 名为数据ID的文件夹，附件放入其中\n",
    "if not os.path.exists('files'):\n",
    "    os.makedirs('files')\n",
    "with open('files/NA.xls', 'w+'):\n",
    "  pass\n",
    "def download_file(url, path, filename):\n",
    "  r = requests.get(url).content\n",
    "  with open(os.path.join(path, filename), 'wb+') as f:\n",
    "    f.write(r)"
   ],
   "outputs": [],
   "metadata": {}
  },
  {
   "cell_type": "code",
   "execution_count": 35,
   "source": [
    "# 进度条\n",
    "pbar = tqdm(total=len(data))\n",
    "\n",
    "\n",
    "converted_data = []\n",
    "\n",
    "for idx, d in enumerate(data):\n",
    "  # meta data\n",
    "  title = d.get('title')\n",
    "  \n",
    "  # SJTU-al-mmc-property\n",
    "  # information\n",
    "  p = d['dict_content'].get('SJTU-al-mmc-property', {})\n",
    "  upload_date = p.get('information', {}).get('upload-date')\n",
    "  data_source = p.get('information', {}).get('data-source')\n",
    "  # mechanical-property\n",
    "  m = p.get('mechanical-property', {})\n",
    "  tensile_strength = m.get('tensile-strength', {}).get('value')\n",
    "  percentage_elongation_at_maximum_force = m.get('percentage-elongation-at-maximum-force', {}).get('value')\n",
    "  \n",
    "  strength = m.get('specifies-the-plastic-elongation-strength', {}).get('specifies-the-plastic-elongation-strength-record', {}).get('strength', {}).get('value')\n",
    "  rp = m.get('specifies-the-plastic-elongation-strength', {}).get('specifies-the-plastic-elongation-strength-record', {}).get('rp')\n",
    "  tensile_curve = m.get('tensile-curve', {}).get('file', {}).get('name', '')\n",
    "  youngs_modulus = m.get('youngs-modulus', {}).get('value')\n",
    "  number_of_test_sample = m.get('number-of-test-sample')\n",
    "  volume_ratio_of_reinforcement_in_test_sample = m.get('volume-ratio-of-reinforcement-in-test-sample', {}).get('value')\n",
    "  break_strength = m.get('break-strength', {}).get('value')\n",
    "  test_date = m.get('test-date')\n",
    "  tester = m.get('tester')\n",
    "  \n",
    "  # 下载文件\n",
    "  uid = str(uuid.uuid4())\n",
    "  path = os.path.join('files', uid)\n",
    "  filename = m.get('tensile-curve', {}).get('file', {}).get('name', '')\n",
    "\n",
    "  if filename:\n",
    "    # 如果文件名以xls结尾，说明可能可以下载\n",
    "    if tensile_curve.endswith('xls'):\n",
    "        file_path = os.path.join('files/', uid, tensile_curve)\n",
    "    # 不重复下载，如果不存在此文件，则下载\n",
    "    if not os.path.exists(os.path.join(path, filename)):\n",
    "      if not os.path.exists(path):\n",
    "        os.makedirs(path)\n",
    "      try:\n",
    "        download_url = 'http://matdata.shu.edu.cn' + m.get('tensile-curve', {}).get('file', {}).get('url', '')\n",
    "        download_file(download_url, path, filename)\n",
    "      except Exception as e:\n",
    "        # 下载失败\n",
    "        print('下载文件{}出错，错误信息：{}'.format(filename, str(e)))\n",
    "        \n",
    "        file_path = 'files/NA.xls'\n",
    "  else:\n",
    "    file_path = 'files/NA.xls'\n",
    "    \n",
    "  data_template = {\n",
    "            \"meta\": {\n",
    "                \"数据 ID\": idx+1,\n",
    "                \"标题\": title,\n",
    "                \"DOI\": \"\",\n",
    "                \"数据摘要\": \"铝基复合材料 性能数据\",\n",
    "                \"关键词\": \"铝基复合材料 性能数据\",\n",
    "                \"来源\": \"MGE-SOURCE_HEADER v1 0100 10 #\",\n",
    "                \"引用\": \"\",\n",
    "                \"其他信息\": \"project: 2018YFB0704400；subject: 2018YFB0704401\",\n",
    "                \"数据生产机构\": \"SJTU\",\n",
    "                \"数据生产者\": \"SJTU\",\n",
    "                \"公开时间\": \"0\",\n",
    "                \"公开范围\": \"3\"\n",
    "            },\n",
    "            \"content\": {\n",
    "                \"力学性能\": {\n",
    "                    \"测试样品编号\": number_of_test_sample,\n",
    "                    \"测试样品含量\": volume_ratio_of_reinforcement_in_test_sample,\n",
    "                    \"测试日期\": test_date,\n",
    "                    \"测试人\": tester,\n",
    "                    \"弹性模量\": youngs_modulus,\n",
    "                    \"规定塑性延伸强度\": [\n",
    "                        {\n",
    "                            \"规定非比例延伸强度\": rp,\n",
    "                            \"强度\": strength,\n",
    "                        },\n",
    "                    ],\n",
    "                    \"抗拉强度\": tensile_strength,\n",
    "                    \"断裂强度\": break_strength,\n",
    "                    \"最大力总伸长率\": percentage_elongation_at_maximum_force,\n",
    "                    \"拉伸曲线\": [\n",
    "                        file_path,\n",
    "                    ]\n",
    "                }\n",
    "            }\n",
    "        }\n",
    "  converted_data.append(data_template)\n",
    "  pbar.update(1)\n",
    "pbar.close()"
   ],
   "outputs": [
    {
     "output_type": "stream",
     "name": "stderr",
     "text": [
      "  5%|▌         | 98/1825 [00:10<00:38, 45.44it/s]"
     ]
    },
    {
     "output_type": "stream",
     "name": "stdout",
     "text": [
      "下载文件114.xls出错，错误信息：HTTPConnectionPool(host='127.0.0.1', port=7890): Max retries exceeded with url: http://matdata.shu.edu.cn114.xls/ (Caused by ProxyError('Cannot connect to proxy.', RemoteDisconnected('Remote end closed connection without response',)))\n"
     ]
    },
    {
     "output_type": "stream",
     "name": "stderr",
     "text": [
      "\r\n",
      "  6%|▌         | 110/1825 [00:16<03:02,  9.38it/s]"
     ]
    },
    {
     "output_type": "stream",
     "name": "stdout",
     "text": [
      "下载文件116.xls出错，错误信息：HTTPConnectionPool(host='127.0.0.1', port=7890): Max retries exceeded with url: http://matdata.shu.edu.cn116.xls/ (Caused by ProxyError('Cannot connect to proxy.', RemoteDisconnected('Remote end closed connection without response',)))\n",
      "下载文件117.xls出错，错误信息：HTTPConnectionPool(host='127.0.0.1', port=7890): Max retries exceeded with url: http://matdata.shu.edu.cn117.xls/ (Caused by ProxyError('Cannot connect to proxy.', RemoteDisconnected('Remote end closed connection without response',)))\n"
     ]
    },
    {
     "output_type": "stream",
     "name": "stderr",
     "text": [
      "\r\n",
      "  7%|▋         | 119/1825 [00:22<05:07,  5.54it/s]"
     ]
    },
    {
     "output_type": "stream",
     "name": "stdout",
     "text": [
      "下载文件24.xls出错，错误信息：HTTPConnectionPool(host='127.0.0.1', port=7890): Max retries exceeded with url: http://matdata.shu.edu.cn24.xls/ (Caused by ProxyError('Cannot connect to proxy.', RemoteDisconnected('Remote end closed connection without response',)))\n"
     ]
    },
    {
     "output_type": "stream",
     "name": "stderr",
     "text": [
      " 10%|▉         | 181/1825 [00:55<08:34,  3.19it/s]"
     ]
    },
    {
     "output_type": "stream",
     "name": "stdout",
     "text": [
      "下载文件115.xls出错，错误信息：HTTPConnectionPool(host='127.0.0.1', port=7890): Max retries exceeded with url: http://matdata.shu.edu.cn115.xls/ (Caused by ProxyError('Cannot connect to proxy.', RemoteDisconnected('Remote end closed connection without response',)))\n"
     ]
    },
    {
     "output_type": "stream",
     "name": "stderr",
     "text": [
      "100%|██████████| 1825/1825 [01:04<00:00, 28.41it/s]\n"
     ]
    }
   ],
   "metadata": {
    "scrolled": true
   }
  },
  {
   "cell_type": "code",
   "execution_count": 36,
   "source": [
    "len(converted_data)"
   ],
   "outputs": [
    {
     "output_type": "execute_result",
     "data": {
      "text/plain": [
       "1825"
      ]
     },
     "metadata": {},
     "execution_count": 36
    }
   ],
   "metadata": {}
  },
  {
   "cell_type": "code",
   "execution_count": 37,
   "source": [
    "# 模板\n",
    "with open('性能数据.json', 'r') as f:\n",
    "  file_template = json.load(f)\n",
    "\n",
    "file_template['data'] = converted_data"
   ],
   "outputs": [],
   "metadata": {}
  },
  {
   "cell_type": "code",
   "execution_count": 38,
   "source": [
    "with open('final.json', 'w+') as f:\n",
    "  json.dump(file_template, f, ensure_ascii=False)"
   ],
   "outputs": [],
   "metadata": {}
  },
  {
   "cell_type": "code",
   "execution_count": 9,
   "source": [
    "a = \"dict_content.xingneng\""
   ],
   "outputs": [],
   "metadata": {}
  },
  {
   "cell_type": "code",
   "execution_count": 22,
   "source": [],
   "outputs": [
    {
     "output_type": "error",
     "ename": "TypeError",
     "evalue": "must be str or None, not list",
     "traceback": [
      "\u001b[0;31m---------------------------------------------------------------------------\u001b[0m",
      "\u001b[0;31mTypeError\u001b[0m                                 Traceback (most recent call last)",
      "\u001b[0;32m<ipython-input-22-e722bccafecf>\u001b[0m in \u001b[0;36m<module>\u001b[0;34m\u001b[0m\n\u001b[0;32m----> 1\u001b[0;31m \u001b[0mfileds\u001b[0m \u001b[0;34m=\u001b[0m \u001b[0ma\u001b[0m\u001b[0;34m.\u001b[0m\u001b[0msplit\u001b[0m\u001b[0;34m(\u001b[0m\u001b[0;34m[\u001b[0m\u001b[0;34m'.'\u001b[0m\u001b[0;34m,\u001b[0m \u001b[0;34m'@'\u001b[0m\u001b[0;34m]\u001b[0m\u001b[0;34m)\u001b[0m\u001b[0;34m\u001b[0m\u001b[0;34m\u001b[0m\u001b[0m\n\u001b[0m",
      "\u001b[0;31mTypeError\u001b[0m: must be str or None, not list"
     ]
    }
   ],
   "metadata": {}
  },
  {
   "cell_type": "code",
   "execution_count": null,
   "source": [
    "for f in fields:\n",
    "  j = j.get(f)"
   ],
   "outputs": [],
   "metadata": {}
  },
  {
   "cell_type": "code",
   "execution_count": null,
   "source": [],
   "outputs": [],
   "metadata": {}
  }
 ],
 "metadata": {
  "kernelspec": {
   "display_name": "Python 3",
   "language": "python",
   "name": "python3"
  },
  "language_info": {
   "codemirror_mode": {
    "name": "ipython",
    "version": 3
   },
   "file_extension": ".py",
   "mimetype": "text/x-python",
   "name": "python",
   "nbconvert_exporter": "python",
   "pygments_lexer": "ipython3",
   "version": "3.6.13"
  }
 },
 "nbformat": 4,
 "nbformat_minor": 5
}
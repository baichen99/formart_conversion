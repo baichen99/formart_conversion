{
 "cells": [
  {
   "cell_type": "code",
   "execution_count": 4,
   "id": "0ff6ecc4",
   "metadata": {},
   "outputs": [],
   "source": [
    "import os\n",
    "import sys\n",
    "import json\n",
    "import re\n",
    "# from jsonpath_ng import jsonpath, parse\n",
    "\n",
    "\n"
   ]
  },
  {
   "cell_type": "code",
   "execution_count": 12,
   "id": "e5c70c64",
   "metadata": {},
   "outputs": [
    {
     "name": "stdout",
     "output_type": "stream",
     "text": [
      "a.b.c | d, e\n"
     ]
    }
   ],
   "source": [
    "s = 'a.b.c.(d, e)'\n",
    "res = re.match(r'(.*?)\\.\\((.*?)\\)', s)\n",
    "print(res.group(1), '|', res.group(2))"
   ]
  },
  {
   "cell_type": "code",
   "execution_count": 19,
   "id": "87133c6f",
   "metadata": {},
   "outputs": [
    {
     "data": {
      "text/plain": [
       "{'dict_content': {'SJTU-al-mmc-property': {'information': {'upload-date': '2019-06-22',\n",
       "    'data-source': 'SJTU',\n",
       "    'doi': ''},\n",
       "   '@xmlns:xsi': 'http: //www.w3.org/2001/XMLSchema-instance',\n",
       "   'mechanical-property': {'tensile-strength': {'unit': 'MPa', 'value': 450},\n",
       "    'percentage-elongation-at-maximum-force': {'unit': '%', 'value': 1},\n",
       "    'specifies-the-plastic-elongation-strength': {'specifies-the-plastic-elongation-strength-record': [{'strength': {'unit': 'MPa',\n",
       "        'value': 449},\n",
       "       'rp': 0.2}]}}}},\n",
       " 'title': 'SiC/Al tensile test'}"
      ]
     },
     "execution_count": 19,
     "metadata": {},
     "output_type": "execute_result"
    }
   ],
   "source": []
  },
  {
   "cell_type": "code",
   "execution_count": 27,
   "id": "66c70a51",
   "metadata": {},
   "outputs": [],
   "source": [
    "s = \"('规定非比例延伸强度', '强度')\"\n",
    "l = re.split(r\"[',]\", s[1: -2])\n",
    "l = [i for i in l if i not in ['', ' ']]"
   ]
  },
  {
   "cell_type": "code",
   "execution_count": 28,
   "id": "3d91a080",
   "metadata": {},
   "outputs": [
    {
     "data": {
      "text/plain": [
       "['规定非比例延伸强度', '强度']"
      ]
     },
     "execution_count": 28,
     "metadata": {},
     "output_type": "execute_result"
    }
   ],
   "source": [
    "l"
   ]
  },
  {
   "cell_type": "code",
   "execution_count": null,
   "id": "6f54ccad",
   "metadata": {},
   "outputs": [],
   "source": []
  }
 ],
 "metadata": {
  "kernelspec": {
   "display_name": "Python 3",
   "language": "python",
   "name": "python3"
  },
  "language_info": {
   "codemirror_mode": {
    "name": "ipython",
    "version": 3
   },
   "file_extension": ".py",
   "mimetype": "text/x-python",
   "name": "python",
   "nbconvert_exporter": "python",
   "pygments_lexer": "ipython3",
   "version": "3.6.13"
  }
 },
 "nbformat": 4,
 "nbformat_minor": 5
}

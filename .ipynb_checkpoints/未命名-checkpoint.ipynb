{
 "cells": [
  {
   "cell_type": "code",
   "execution_count": 1,
   "id": "e1c51ad6",
   "metadata": {},
   "outputs": [],
   "source": [
    "import xmltodict\n",
    "import json"
   ]
  },
  {
   "cell_type": "code",
   "execution_count": 2,
   "id": "4de71d2a",
   "metadata": {},
   "outputs": [],
   "source": [
    "filename = 'F600-2.7894cbdc.json'\n",
    "with open(filename, 'r') as f:\n",
    "  text = f.read()"
   ]
  },
  {
   "cell_type": "code",
   "execution_count": 3,
   "id": "ba59e86b",
   "metadata": {},
   "outputs": [
    {
     "data": {
      "text/plain": [
       "{'SJTU-al-mmc-property': {'@xmlns:xsi': 'http://www.w3.org/2001/XMLSchema-instance',\n",
       "  'information': {'data-source': 'SJTU',\n",
       "   'upload-date': '2019-06-22',\n",
       "   'doi': None},\n",
       "  'mechanical-property': {'number-of-test-sample': 2,\n",
       "   'volume-ratio-of-reinforcement-in-test-sample': {'value': 15, 'unit': '%'},\n",
       "   'test-date': '2019-04-01',\n",
       "   'youngs-modulus': {'value': 79.5, 'unit': 'GPa'},\n",
       "   'specifies-the-plastic-elongation-strength': {'specifies-the-plastic-elongation-strength-record': {'rp': 0.2,\n",
       "     'strength': {'value': 449, 'unit': 'MPa'}}},\n",
       "   'tensile-strength': {'value': 398, 'unit': 'MPa'},\n",
       "   'break-strength': {'value': 394, 'unit': 'MPa'},\n",
       "   'tensile-curve': {'file': {'name': '2.xls',\n",
       "     'url': '/mdcs-sjtu/rest/blob/download/5d0dd325082f6d0c23bd112b/'}}}}}"
      ]
     },
     "execution_count": 3,
     "metadata": {},
     "output_type": "execute_result"
    }
   ],
   "source": [
    "j = json.loads(text)\n",
    "j"
   ]
  },
  {
   "cell_type": "code",
   "execution_count": 4,
   "id": "a0ff5340",
   "metadata": {},
   "outputs": [],
   "source": [
    "lang_en_zh = {\n",
    "  'number-of-test-sample': '测试样品编号',\n",
    "  'volume-ratio-of-reinforcement-in-test-sample': '测试样品含量',\n",
    "  'test-date': '测试日期',\n",
    "  'tester': '测试人',\n",
    "  'youngs-modulus': '弹性模量',\n",
    "  'specifies-the-plastic-elongation-strength': '规定塑性延伸强度',\n",
    "  'tensile-strength': '抗拉强度',\n",
    "  'break-strength': '断裂强度',\n",
    "  'percentage-total-elongation-at-fracture': '断裂总伸长率',\n",
    "  'percentage-elongation-after-fracture': '断后伸长率',\n",
    "  'data-of-tensile-testing': '拉伸数据',\n",
    "  'tensile-curve': '拉伸曲线', \n",
    "  'elastic-modulus-of-vibration-method': '振动法弹性模量',\n",
    "  'fracture-morphology': '断口形貌',\n",
    "  'impact-toughness': '冲击韧性',\n",
    "  'impact-fracture-morphology': '冲击断口形貌',\n",
    "  'microyield-strength': '微屈服强度',\n",
    "  'rp': '规定非比例延伸强度',\n",
    "  'strength': '强度',\n",
    "  'percentage-elongation-at-maximum-force': '最大力总伸长率',\n",
    "  \n",
    "}"
   ]
  },
  {
   "cell_type": "code",
   "execution_count": 5,
   "id": "724df4ff",
   "metadata": {},
   "outputs": [],
   "source": [
    "# 力学特性  需要获取的字段\n",
    "# 多级索引用@分隔\n",
    "mp_fields = ['number-of-test-sample', 'volume-ratio-of-reinforcement-in-test-sample', 'test-date', \n",
    "             'tester', 'youngs-modulus', \n",
    "             'specifies-the-plastic-elongation-strength@specifies-the-plastic-elongation-strength-record@rp', \n",
    "             'specifies-the-plastic-elongation-strength@specifies-the-plastic-elongation-strength-record@strength',\n",
    "             'tensile-strength', 'break-strength', 'percentage-elongation-at-maximum-force', 'tensile-curve']\n",
    "# for field in mp_fields:\n",
    "#   if '@' in field:\n",
    "#     keys = field.split('@')\n",
    "#     t = mechanical_property\n",
    "\n",
    "#     for k in keys:\n",
    "#       key = k\n",
    "#       t = t.get(k)\n",
    "#     zh = lang_en_zh.get(key)\n",
    "#     print(zh, t)\n",
    "#   else:\n",
    "#     zh = lang_en_zh.get(field)\n",
    "#     value = mechanical_property.get(field)\n",
    "#     print(zh, value)"
   ]
  },
  {
   "cell_type": "code",
   "execution_count": 6,
   "id": "29d3d5ca",
   "metadata": {},
   "outputs": [
    {
     "ename": "TypeError",
     "evalue": "'NoneType' object is not subscriptable",
     "output_type": "error",
     "traceback": [
      "\u001b[0;31m---------------------------------------------------------------------------\u001b[0m",
      "\u001b[0;31mTypeError\u001b[0m                                 Traceback (most recent call last)",
      "\u001b[0;32m<ipython-input-6-8233553e2a72>\u001b[0m in \u001b[0;36m<module>\u001b[0;34m\u001b[0m\n\u001b[1;32m     13\u001b[0m \u001b[0mtensile_strength\u001b[0m \u001b[0;34m=\u001b[0m \u001b[0mmechanical_property\u001b[0m\u001b[0;34m.\u001b[0m\u001b[0mget\u001b[0m\u001b[0;34m(\u001b[0m\u001b[0;34m'tensile-strength'\u001b[0m\u001b[0;34m)\u001b[0m\u001b[0;34m[\u001b[0m\u001b[0;34m'value'\u001b[0m\u001b[0;34m]\u001b[0m\u001b[0;34m\u001b[0m\u001b[0;34m\u001b[0m\u001b[0m\n\u001b[1;32m     14\u001b[0m \u001b[0mbreak_strength\u001b[0m \u001b[0;34m=\u001b[0m \u001b[0mmechanical_property\u001b[0m\u001b[0;34m.\u001b[0m\u001b[0mget\u001b[0m\u001b[0;34m(\u001b[0m\u001b[0;34m'break-strength'\u001b[0m\u001b[0;34m)\u001b[0m\u001b[0;34m[\u001b[0m\u001b[0;34m'value'\u001b[0m\u001b[0;34m]\u001b[0m\u001b[0;34m\u001b[0m\u001b[0;34m\u001b[0m\u001b[0m\n\u001b[0;32m---> 15\u001b[0;31m \u001b[0mpercentage_elongation_at_maximum_force\u001b[0m \u001b[0;34m=\u001b[0m \u001b[0mmechanical_property\u001b[0m\u001b[0;34m.\u001b[0m\u001b[0mget\u001b[0m\u001b[0;34m(\u001b[0m\u001b[0;34m'percentage-elongation-at-maximum-force'\u001b[0m\u001b[0;34m)\u001b[0m\u001b[0;34m[\u001b[0m\u001b[0;34m'value'\u001b[0m\u001b[0;34m]\u001b[0m\u001b[0;34m\u001b[0m\u001b[0;34m\u001b[0m\u001b[0m\n\u001b[0m\u001b[1;32m     16\u001b[0m \u001b[0mtensile_curve\u001b[0m \u001b[0;34m=\u001b[0m \u001b[0mmechanical_property\u001b[0m\u001b[0;34m.\u001b[0m\u001b[0mget\u001b[0m\u001b[0;34m(\u001b[0m\u001b[0;34m'tensile-curve'\u001b[0m\u001b[0;34m)\u001b[0m\u001b[0;34m[\u001b[0m\u001b[0;34m'file'\u001b[0m\u001b[0;34m]\u001b[0m\u001b[0;34m[\u001b[0m\u001b[0;34m'name'\u001b[0m\u001b[0;34m]\u001b[0m\u001b[0;34m\u001b[0m\u001b[0;34m\u001b[0m\u001b[0m\n\u001b[1;32m     17\u001b[0m \u001b[0;34m\u001b[0m\u001b[0m\n",
      "\u001b[0;31mTypeError\u001b[0m: 'NoneType' object is not subscriptable"
     ]
    }
   ],
   "source": [
    "# 力学特性\n",
    "mechanical_property = j['SJTU-al-mmc-property']['mechanical-property']\n",
    "\n",
    "number_of_test_sample = mechanical_property.get('number-of-test-sample')\n",
    "volume_ratio_of_reinforcement_in_test_sample = mechanical_property.get('volume-ratio-of-reinforcement-in-test-sample')['value']\n",
    "test_date = mechanical_property.get('test-date')\n",
    "tester = mechanical_property.get('tester')\n",
    "youngs_modulus = mechanical_property.get('youngs-modulus')['value']\n",
    "if mechanical_property.get('specifies-the-plastic-elongation-strength'):\n",
    "  record = mechanical_property['specifies-the-plastic-elongation-strength']['specifies-the-plastic-elongation-strength-record']\n",
    "  rp = record.get('rp')\n",
    "  strength = record.get('strength')['value']\n",
    "tensile_strength = mechanical_property.get('tensile-strength')['value']\n",
    "break_strength = mechanical_property.get('break-strength')['value']\n",
    "percentage_elongation_at_maximum_force = mechanical_property.get('percentage-elongation-at-maximum-force')['value']\n",
    "tensile_curve = mechanical_property.get('tensile-curve')['file']['name']\n",
    "\n",
    "download_url = 'http://matdata.shu.edu.cn' + mechanical_property.get('tensile-curve')['file']['url']\n"
   ]
  },
  {
   "cell_type": "code",
   "execution_count": 75,
   "id": "a74cef8d",
   "metadata": {},
   "outputs": [],
   "source": []
  },
  {
   "cell_type": "code",
   "execution_count": 1,
   "id": "b284e1f7",
   "metadata": {},
   "outputs": [
    {
     "ename": "NameError",
     "evalue": "name 'number_of_test_sample' is not defined",
     "output_type": "error",
     "traceback": [
      "\u001b[0;31m---------------------------------------------------------------------------\u001b[0m",
      "\u001b[0;31mNameError\u001b[0m                                 Traceback (most recent call last)",
      "\u001b[0;32m<ipython-input-1-14cecbef6486>\u001b[0m in \u001b[0;36m<module>\u001b[0;34m\u001b[0m\n\u001b[1;32m     16\u001b[0m             \"content\": {\n\u001b[1;32m     17\u001b[0m                 \"力学性能\": {\n\u001b[0;32m---> 18\u001b[0;31m                     \u001b[0;34m\"测试样品编号\"\u001b[0m\u001b[0;34m:\u001b[0m \u001b[0mnumber_of_test_sample\u001b[0m\u001b[0;34m,\u001b[0m\u001b[0;34m\u001b[0m\u001b[0;34m\u001b[0m\u001b[0m\n\u001b[0m\u001b[1;32m     19\u001b[0m                     \u001b[0;34m\"测试样品含量\"\u001b[0m\u001b[0;34m:\u001b[0m \u001b[0mvolume_ratio_of_reinforcement_in_test_sample\u001b[0m\u001b[0;34m,\u001b[0m\u001b[0;34m\u001b[0m\u001b[0;34m\u001b[0m\u001b[0m\n\u001b[1;32m     20\u001b[0m                     \u001b[0;34m\"测试日期\"\u001b[0m\u001b[0;34m:\u001b[0m \u001b[0mtest_date\u001b[0m\u001b[0;34m,\u001b[0m\u001b[0;34m\u001b[0m\u001b[0;34m\u001b[0m\u001b[0m\n",
      "\u001b[0;31mNameError\u001b[0m: name 'number_of_test_sample' is not defined"
     ]
    }
   ],
   "source": [
    "data_template = {\n",
    "            \"meta\": {\n",
    "                \"数据 ID\": \"***第1个数据的ID***\",\n",
    "                \"标题\": \"在这里填写 标题\",\n",
    "                \"DOI\": \"在这里填写 DOI\",\n",
    "                \"数据摘要\": \"在这里填写 数据摘要\",\n",
    "                \"关键词\": \"在这里填写 关键词\",\n",
    "                \"来源\": \"MGE-SOURCE_HEADER v1 0000 10 #\",\n",
    "                \"引用\": \"在这里填写 引用\",\n",
    "                \"其他信息\": \"project: 2018YFB0704400；subject: 2018YFB0704401\",\n",
    "                \"数据生产机构\": \"在这里填写 数据生产机构\",\n",
    "                \"数据生产者\": \"SJTU\",\n",
    "                \"公开时间\": \"0年后公开\",\n",
    "                \"公开范围\": \"public\"\n",
    "            },\n",
    "            \"content\": {\n",
    "                \"力学性能\": {\n",
    "                    \"测试样品编号\": number_of_test_sample,\n",
    "                    \"测试样品含量\": volume_ratio_of_reinforcement_in_test_sample,\n",
    "                    \"测试日期\": test_date,\n",
    "                    \"测试人\": tester,\n",
    "                    \"弹性模量\": youngs_modulus,\n",
    "                    \"规定塑性延伸强度\": [\n",
    "                        {\n",
    "                            \"规定非比例延伸强度\": rp,\n",
    "                            \"强度\": strength,\n",
    "                        },\n",
    "                    ],\n",
    "                    \"抗拉强度\": tensile_strength,\n",
    "                    \"断裂强度\": break_strength,\n",
    "                    \"最大力总伸长率\": percentage_elongation_at_maximum_force,\n",
    "                    \"拉伸曲线\": [\n",
    "                        tensile_curve,\n",
    "                    ]\n",
    "                }\n",
    "            }\n",
    "        }"
   ]
  },
  {
   "cell_type": "code",
   "execution_count": 102,
   "id": "bcb5e625",
   "metadata": {},
   "outputs": [
    {
     "data": {
      "text/plain": [
       "{'meta': {'数据 ID': '***第1个数据的ID***',\n",
       "  '标题': '在这里填写 标题',\n",
       "  'DOI': '在这里填写 DOI',\n",
       "  '数据摘要': '在这里填写 数据摘要',\n",
       "  '关键词': '在这里填写 关键词',\n",
       "  '来源': 'MGE-SOURCE_HEADER v1 0000 10 #',\n",
       "  '引用': '在这里填写 引用',\n",
       "  '其他信息': 'project: 2016YFB0700500；subject: 2016YFB0700503',\n",
       "  '数据生产机构': '在这里填写 数据生产机构',\n",
       "  '数据生产者': '在这里填写 数据生产者',\n",
       "  '公开时间': '在这里填写 公开时间',\n",
       "  '公开范围': '在这里填写 公开范围'},\n",
       " 'content': {'力学性能': {'测试样品编号': 3,\n",
       "   '测试样品含量': 15,\n",
       "   '测试日期': '2019-04-10',\n",
       "   '测试人': None,\n",
       "   '弹性模量': 83.0,\n",
       "   '规定塑性延伸强度': [{'规定非比例延伸强度': 0.2, '强度': 389},\n",
       "    {'规定非比例延伸强度': '在这里填写 规定非比例延伸强度 (数值型)', '强度': '在这里填写 强度 (数值型)'}],\n",
       "   '抗拉强度': 421,\n",
       "   '断裂强度': 418,\n",
       "   '最大力总伸长率': 1.4,\n",
       "   '拉伸曲线': '3.xls'}}}"
      ]
     },
     "execution_count": 102,
     "metadata": {},
     "output_type": "execute_result"
    }
   ],
   "source": [
    "data_template"
   ]
  },
  {
   "cell_type": "code",
   "execution_count": null,
   "id": "2ce0f22a",
   "metadata": {},
   "outputs": [],
   "source": []
  }
 ],
 "metadata": {
  "kernelspec": {
   "display_name": "Python 3",
   "language": "python",
   "name": "python3"
  },
  "language_info": {
   "codemirror_mode": {
    "name": "ipython",
    "version": 3
   },
   "file_extension": ".py",
   "mimetype": "text/x-python",
   "name": "python",
   "nbconvert_exporter": "python",
   "pygments_lexer": "ipython3",
   "version": "3.6.13"
  }
 },
 "nbformat": 4,
 "nbformat_minor": 5
}

{
 "cells": [
  {
   "cell_type": "code",
   "execution_count": 88,
   "id": "e1c51ad6",
   "metadata": {},
   "outputs": [],
   "source": [
    "import xmltodict\n",
    "import json\n",
    "import os\n",
    "import requests"
   ]
  },
  {
   "cell_type": "code",
   "execution_count": 89,
   "id": "4de71d2a",
   "metadata": {},
   "outputs": [],
   "source": [
    "filename = 'F600-2.7894cbdc.json'\n",
    "with open(filename, 'r') as f:\n",
    "  text = f.read()"
   ]
  },
  {
   "cell_type": "code",
   "execution_count": 90,
   "id": "ba59e86b",
   "metadata": {},
   "outputs": [],
   "source": [
    "j = json.loads(text)\n",
    "with open('性能数据.json', 'r') as f:\n",
    "  file_template = json.load(f)"
   ]
  },
  {
   "cell_type": "code",
   "execution_count": 91,
   "id": "a0ff5340",
   "metadata": {},
   "outputs": [],
   "source": [
    "lang_en_zh = {\n",
    "  'number-of-test-sample': '测试样品编号',\n",
    "  'volume-ratio-of-reinforcement-in-test-sample': '测试样品含量',\n",
    "  'test-date': '测试日期',\n",
    "  'tester': '测试人',\n",
    "  'youngs-modulus': '弹性模量',\n",
    "  'specifies-the-plastic-elongation-strength': '规定塑性延伸强度',\n",
    "  'tensile-strength': '抗拉强度',\n",
    "  'break-strength': '断裂强度',\n",
    "  'percentage-total-elongation-at-fracture': '断裂总伸长率',\n",
    "  'percentage-elongation-after-fracture': '断后伸长率',\n",
    "  'data-of-tensile-testing': '拉伸数据',\n",
    "  'tensile-curve': '拉伸曲线', \n",
    "  'elastic-modulus-of-vibration-method': '振动法弹性模量',\n",
    "  'fracture-morphology': '断口形貌',\n",
    "  'impact-toughness': '冲击韧性',\n",
    "  'impact-fracture-morphology': '冲击断口形貌',\n",
    "  'microyield-strength': '微屈服强度',\n",
    "  'rp': '规定非比例延伸强度',\n",
    "  'strength': '强度',\n",
    "  'percentage-elongation-at-maximum-force': '最大力总伸长率',\n",
    "  \n",
    "}"
   ]
  },
  {
   "cell_type": "code",
   "execution_count": null,
   "id": "724df4ff",
   "metadata": {},
   "outputs": [],
   "source": []
  },
  {
   "cell_type": "code",
   "execution_count": 92,
   "id": "29d3d5ca",
   "metadata": {},
   "outputs": [],
   "source": [
    "# 力学特性\n",
    "mechanical_property = j['SJTU-al-mmc-property']['mechanical-property']\n",
    "\n",
    "number_of_test_sample = mechanical_property.get('number-of-test-sample')\n",
    "volume_ratio_of_reinforcement_in_test_sample = mechanical_property.get('volume-ratio-of-reinforcement-in-test-sample')['value']\n",
    "test_date = mechanical_property.get('test-date')\n",
    "tester = mechanical_property.get('tester')\n",
    "youngs_modulus = mechanical_property.get('youngs-modulus', {}).get('value')\n",
    "if mechanical_property.get('specifies-the-plastic-elongation-strength'):\n",
    "  record = mechanical_property['specifies-the-plastic-elongation-strength']['specifies-the-plastic-elongation-strength-record']\n",
    "  rp = record.get('rp')\n",
    "  strength = record.get('strength', {}).get('value')\n",
    "tensile_strength = mechanical_property.get('tensile-strength', {}).get('value')\n",
    "break_strength = mechanical_property.get('break-strength', {}).get('value')\n",
    "percentage_elongation_at_maximum_force = mechanical_property.get('percentage-elongation-at-maximum-force', {}).get('value')\n",
    "tensile_curve = mechanical_property.get('tensile-curve')['file']['name']\n",
    "\n",
    "download_url = 'http://matdata.shu.edu.cn' + mechanical_property.get('tensile-curve')['file']['url']\n"
   ]
  },
  {
   "cell_type": "code",
   "execution_count": 93,
   "id": "a74cef8d",
   "metadata": {},
   "outputs": [],
   "source": [
    "# 获取文件名\n",
    "_, file = os.path.split(filename)\n",
    "# 创建 output/xxxx/文件夹\n",
    "dir_name = os.path.join('output/', file[0:-5])\n",
    "# 存放二进制的文件夹\n",
    "files_dir = os.path.join(dir_name, 'files')\n",
    "if not os.path.exists(dir_name):\n",
    "    os.makedirs(dir_name)\n",
    "\n",
    "if not os.path.exists(files_dir):\n",
    "    os.makedirs(files_dir)"
   ]
  },
  {
   "cell_type": "code",
   "execution_count": 94,
   "id": "b284e1f7",
   "metadata": {},
   "outputs": [],
   "source": [
    "data_template = {\n",
    "            \"meta\": {\n",
    "                \"数据 ID\": \"1\",\n",
    "                \"标题\": \"铝基复合材料 性能数据1\",\n",
    "                \"DOI\": \"\",\n",
    "                \"数据摘要\": \"铝基复合材料 性能数据1\",\n",
    "                \"关键词\": \"铝基复合材料 性能数据\",\n",
    "                \"来源\": \"MGE-SOURCE_HEADER v1 0100 10 #\",\n",
    "                \"引用\": \"\",\n",
    "                \"其他信息\": \"project: 2018YFB0704400；subject: 2018YFB0704401\",\n",
    "                \"数据生产机构\": \"SJTU\",\n",
    "                \"数据生产者\": \"SJTU\",\n",
    "                \"公开时间\": \"0\",\n",
    "                \"公开范围\": \"public\"\n",
    "            },\n",
    "            \"content\": {\n",
    "                \"力学性能\": {\n",
    "                    \"测试样品编号\": number_of_test_sample,\n",
    "                    \"测试样品含量\": volume_ratio_of_reinforcement_in_test_sample,\n",
    "                    \"测试日期\": test_date,\n",
    "                    \"测试人\": tester,\n",
    "                    \"弹性模量\": youngs_modulus,\n",
    "                    \"规定塑性延伸强度\": [\n",
    "                        {\n",
    "                            \"规定非比例延伸强度\": rp,\n",
    "                            \"强度\": strength,\n",
    "                        },\n",
    "                    ],\n",
    "                    \"抗拉强度\": tensile_strength,\n",
    "                    \"断裂强度\": break_strength,\n",
    "                    \"最大力总伸长率\": percentage_elongation_at_maximum_force,\n",
    "                    \"拉伸曲线\": [\n",
    "                        os.path.join('files/', tensile_curve),\n",
    "                    ]\n",
    "                }\n",
    "            }\n",
    "        }\n",
    "\n",
    "\n",
    "file_template['data'].append(data_template)"
   ]
  },
  {
   "cell_type": "code",
   "execution_count": 95,
   "id": "bcb5e625",
   "metadata": {},
   "outputs": [],
   "source": [
    "# 下载文件\n",
    "r = requests.get(download_url).content\n",
    "# 文件必须单独放一个文件夹里\n",
    "with open(os.path.join(files_dir, tensile_curve), 'wb+') as f:\n",
    "  f.write(r)\n",
    "\n",
    "out_file = os.path.join(dir_name, file)\n",
    "\n",
    "with open(out_file, 'w+') as f:\n",
    "  json.dump(file_template, f, ensure_ascii=False)\n"
   ]
  },
  {
   "cell_type": "code",
   "execution_count": 96,
   "id": "2ce0f22a",
   "metadata": {},
   "outputs": [
    {
     "data": {
      "text/plain": [
       "{'template': {'_id': 3438,\n",
       "  '力学性能': {'_type': '容器型',\n",
       "   'r': False,\n",
       "   '测试样品编号': {'_type': '字符串型', 'r': False},\n",
       "   '测试样品含量': {'_type': '字符串型', 'r': False},\n",
       "   '测试日期': {'_type': '字符串型', 'r': False},\n",
       "   '测试人': {'_type': '字符串型', 'r': False},\n",
       "   '弹性模量': {'_type': '数值型', 'r': False, '_unit': 'Gpa'},\n",
       "   '规定塑性延伸强度': {'_type': '表格型',\n",
       "    'r': False,\n",
       "    '规定非比例延伸强度': {'_type': '数值型', 'r': False, '_unit': 'Mpa'},\n",
       "    '强度': {'_type': '数值型', 'r': False}},\n",
       "   '抗拉强度': {'_type': '数值型', 'r': False, '_unit': 'Mpa'},\n",
       "   '断裂强度': {'_type': '数值型', 'r': False, '_unit': 'Mpa'},\n",
       "   '最大力总伸长率': {'_type': '数值型', 'r': False, '_unit': '%'},\n",
       "   '拉伸曲线': {'_type': '文件', 'r': False}}},\n",
       " 'data': [{'meta': {'数据 ID': '1',\n",
       "    '标题': '铝基复合材料 性能数据1',\n",
       "    'DOI': '',\n",
       "    '数据摘要': '铝基复合材料 性能数据1',\n",
       "    '关键词': '铝基复合材料 性能数据',\n",
       "    '来源': 'MGE-SOURCE_HEADER v1 0100 10 #',\n",
       "    '引用': '',\n",
       "    '其他信息': 'project: 2018YFB0704400；subject: 2018YFB0704401',\n",
       "    '数据生产机构': 'SJTU',\n",
       "    '数据生产者': 'SJTU',\n",
       "    '公开时间': '0',\n",
       "    '公开范围': 'public'},\n",
       "   'content': {'力学性能': {'测试样品编号': 2,\n",
       "     '测试样品含量': 15,\n",
       "     '测试日期': '2019-04-01',\n",
       "     '测试人': None,\n",
       "     '弹性模量': 79.5,\n",
       "     '规定塑性延伸强度': [{'规定非比例延伸强度': 0.2, '强度': 449}],\n",
       "     '抗拉强度': 398,\n",
       "     '断裂强度': 394,\n",
       "     '最大力总伸长率': None,\n",
       "     '拉伸曲线': ['files/2.xls']}}}]}"
      ]
     },
     "execution_count": 96,
     "metadata": {},
     "output_type": "execute_result"
    }
   ],
   "source": [
    "file_template"
   ]
  },
  {
   "cell_type": "code",
   "execution_count": null,
   "id": "89e1619a",
   "metadata": {},
   "outputs": [],
   "source": []
  },
  {
   "cell_type": "code",
   "execution_count": null,
   "id": "c0d33b96",
   "metadata": {},
   "outputs": [],
   "source": []
  },
  {
   "cell_type": "code",
   "execution_count": null,
   "id": "607086c2",
   "metadata": {},
   "outputs": [],
   "source": []
  }
 ],
 "metadata": {
  "kernelspec": {
   "display_name": "Python 3",
   "language": "python",
   "name": "python3"
  },
  "language_info": {
   "codemirror_mode": {
    "name": "ipython",
    "version": 3
   },
   "file_extension": ".py",
   "mimetype": "text/x-python",
   "name": "python",
   "nbconvert_exporter": "python",
   "pygments_lexer": "ipython3",
   "version": "3.6.13"
  }
 },
 "nbformat": 4,
 "nbformat_minor": 5
}
